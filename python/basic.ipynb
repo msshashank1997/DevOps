{
 "cells": [
  {
   "cell_type": "markdown",
   "metadata": {},
   "source": [
    "# Types of operators\n",
    "## Arithmetic operators\n",
    "### + - * / % ** //\n",
    "\n",
    "demopass123"
   ]
  },
  {
   "cell_type": "code",
   "execution_count": null,
   "metadata": {},
   "outputs": [
    {
     "data": {
      "text/plain": [
       "15625\n"
      ]
     },
     "metadata": {},
     "output_type": "display_data"
    }
   ],
   "source": [
    "\n",
    "a = 5\n",
    "b = 6\n",
    "\n",
    "c = a ** b\n",
    "print(c)"
   ]
  },
  {
   "cell_type": "code",
   "execution_count": null,
   "metadata": {},
   "outputs": [
    {
     "data": {
      "text/plain": [
       "0\n"
      ]
     },
     "metadata": {},
     "output_type": "display_data"
    }
   ],
   "source": [
    "print(a // b)"
   ]
  },
  {
   "cell_type": "code",
   "execution_count": null,
   "metadata": {},
   "outputs": [
    {
     "data": {
      "text/plain": [
       "0.8333333333333334\n"
      ]
     },
     "metadata": {},
     "output_type": "display_data"
    }
   ],
   "source": [
    "print(a/b)"
   ]
  },
  {
   "cell_type": "code",
   "execution_count": null,
   "metadata": {},
   "outputs": [
    {
     "data": {
      "text/plain": [
       "5\n"
      ]
     },
     "metadata": {},
     "output_type": "display_data"
    }
   ],
   "source": [
    "print (a % b)"
   ]
  },
  {
   "cell_type": "markdown",
   "metadata": {},
   "source": [
    "# compersion operators\n",
    "## ==, !=, >, <, >=, <="
   ]
  },
  {
   "cell_type": "code",
   "execution_count": null,
   "metadata": {},
   "outputs": [
    {
     "data": {
      "text/plain": [
       "False\n",
       "False\n",
       "False\n",
       "True\n",
       "True\n",
       "True\n"
      ]
     },
     "metadata": {},
     "output_type": "display_data"
    }
   ],
   "source": [
    "print(a==b)\n",
    "print(a>b)\n",
    "print(a>=b)\n",
    "print(a!=b)\n",
    "print(a<b)\n",
    "print(a<=b)"
   ]
  },
  {
   "cell_type": "markdown",
   "metadata": {},
   "source": [
    "# logical operators\n",
    "## add, or, not"
   ]
  },
  {
   "cell_type": "code",
   "execution_count": null,
   "metadata": {},
   "outputs": [
    {
     "data": {
      "text/plain": [
       "True\n"
      ]
     },
     "metadata": {},
     "output_type": "display_data"
    }
   ],
   "source": [
    "print( a>5 or b>5 )"
   ]
  },
  {
   "cell_type": "code",
   "execution_count": null,
   "metadata": {},
   "outputs": [
    {
     "data": {
      "text/plain": [
       "False\n"
      ]
     },
     "metadata": {},
     "output_type": "display_data"
    }
   ],
   "source": [
    "print( a>5 and b>5 )"
   ]
  },
  {
   "cell_type": "code",
   "execution_count": null,
   "metadata": {},
   "outputs": [
    {
     "data": {
      "text/plain": [
       "True\n",
       "False\n"
      ]
     },
     "metadata": {},
     "output_type": "display_data"
    }
   ],
   "source": [
    "print(not (a>5 and b>5))\n",
    "print(not (a>5 or b>5))"
   ]
  },
  {
   "cell_type": "markdown",
   "metadata": {},
   "source": [
    "# condtinal statement\n",
    "## if, elif, else"
   ]
  },
  {
   "cell_type": "code",
   "execution_count": null,
   "metadata": {},
   "outputs": [
    {
     "data": {
      "text/plain": [
       "5 is less then 6\n"
      ]
     },
     "metadata": {},
     "output_type": "display_data"
    }
   ],
   "source": [
    "if a < b:{\n",
    "print (a , \"is less then\", b)\n",
    "}"
   ]
  },
  {
   "cell_type": "code",
   "execution_count": null,
   "metadata": {},
   "outputs": [
    {
     "data": {
      "text/plain": [
       "5  is smaller then 6\n"
      ]
     },
     "metadata": {},
     "output_type": "display_data"
    }
   ],
   "source": [
    "if a > b:{\n",
    "print (a , \"is less then\", b)\n",
    "}\n",
    "\n",
    "else:{\n",
    "print(a, \" is smaller then\", b)\n",
    "}"
   ]
  },
  {
   "cell_type": "code",
   "execution_count": null,
   "metadata": {},
   "outputs": [],
   "source": [
    "c = int(input(\"enter a number\"))\n"
   ]
  },
  {
   "cell_type": "markdown",
   "metadata": {},
   "source": [
    "### 1. Write a program to find number is odd or even"
   ]
  },
  {
   "cell_type": "code",
   "execution_count": null,
   "metadata": {},
   "outputs": [
    {
     "data": {
      "text/plain": [
       "5\n"
      ]
     },
     "metadata": {},
     "output_type": "display_data"
    }
   ],
   "source": [
    "print(10//2)"
   ]
  },
  {
   "cell_type": "code",
   "execution_count": null,
   "metadata": {},
   "outputs": [
    {
     "data": {
      "text/plain": [
       "The given number 10 is odd\n"
      ]
     },
     "metadata": {},
     "output_type": "display_data"
    }
   ],
   "source": [
    "number1 = int(input(\"Enter a number\"))\n",
    "\n",
    "if number1 % 2 == 0:\n",
    "    print(\"The given number\", number1, \"is odd\")\n",
    "else:\n",
    "    print(\"The given number\", number1, \"is even\")"
   ]
  },
  {
   "cell_type": "markdown",
   "metadata": {},
   "source": [
    "### 2. Write a program to enter the users birth year and see if he is eligible for voting"
   ]
  },
  {
   "cell_type": "code",
   "execution_count": null,
   "metadata": {},
   "outputs": [
    {
     "data": {
      "text/plain": [
       "2025-01-04\n"
      ]
     },
     "metadata": {},
     "output_type": "display_data"
    }
   ],
   "source": [
    "from datetime import date\n",
    "\n",
    "date = date.today()\n",
    "print(date)"
   ]
  },
  {
   "cell_type": "code",
   "execution_count": null,
   "metadata": {},
   "outputs": [
    {
     "data": {
      "text/plain": [
       "eligible for voting\n"
      ]
     },
     "metadata": {},
     "output_type": "display_data"
    }
   ],
   "source": [
    "from datetime import date\n",
    "\n",
    "date = date.today()\n",
    "dob = int(input(\"Enter your data of birth in birth in format yyyy\"))\n",
    "age = date.year - dob\n",
    "if age > 18:\n",
    "    print(\"eligible for voting\")\n",
    "else:\n",
    "    print(\"not eligible for voting\")"
   ]
  },
  {
   "cell_type": "markdown",
   "metadata": {},
   "source": [
    "### 3. Get the three sides of triangle and say which type of triangle it is."
   ]
  },
  {
   "cell_type": "code",
   "execution_count": null,
   "metadata": {},
   "outputs": [
    {
     "data": {
      "text/plain": [
       "the given triangle is scalene triangle\n"
      ]
     },
     "metadata": {},
     "output_type": "display_data"
    }
   ],
   "source": [
    "def triangle(side1, side2, side3):\n",
    "    if side1 == side2 == side3:\n",
    "        print(\"the given triangle is equilateral triangle\")\n",
    "    elif side1 == side2 or side2 == side3 or side3 == side1:\n",
    "        print(\"the given triangle is isoscelese triangle\")\n",
    "    else: \n",
    "        print(\"the given triangle is scalene triangle\")\n",
    "\n",
    "side1 = float(input(\"provide a side a to the triangle\"))\n",
    "side2 = float(input(\"provide a side b to the triangle\"))\n",
    "side3 = float(input(\"provide a side c to the triangle\"))\n",
    "\n",
    "triangle(side1, side2, side3)"
   ]
  },
  {
   "cell_type": "markdown",
   "metadata": {},
   "source": [
    "05/Jan/25\n",
    "### Loops \n",
    "### Fuctions\n",
    "### Array"
   ]
  },
  {
   "cell_type": "markdown",
   "metadata": {},
   "source": [
    "## Loops\n",
    "### While loop"
   ]
  },
  {
   "cell_type": "code",
   "execution_count": 5,
   "metadata": {},
   "outputs": [
    {
     "name": "stdout",
     "output_type": "stream",
     "text": [
      "1\n",
      "2\n",
      "3\n",
      "4\n",
      "5\n",
      "6\n",
      "7\n",
      "8\n",
      "9\n",
      "10\n",
      "11\n"
     ]
    }
   ],
   "source": [
    "i = 1\n",
    "\n",
    "while i <= 10:\n",
    "    print(i)\n",
    "    i = i + 1\n",
    "\n",
    "print(i)"
   ]
  },
  {
   "cell_type": "markdown",
   "metadata": {},
   "source": [
    "### for loop"
   ]
  },
  {
   "cell_type": "code",
   "execution_count": 8,
   "metadata": {},
   "outputs": [
    {
     "name": "stdout",
     "output_type": "stream",
     "text": [
      "0\n",
      "1\n",
      "2\n",
      "3\n",
      "4\n",
      "5\n",
      "6\n",
      "7\n",
      "8\n",
      "9\n",
      "10\n"
     ]
    }
   ],
   "source": [
    "for j in range(11):\n",
    "    print(j)"
   ]
  },
  {
   "cell_type": "code",
   "execution_count": 10,
   "metadata": {},
   "outputs": [
    {
     "name": "stdout",
     "output_type": "stream",
     "text": [
      "s\n",
      "h\n",
      "a\n",
      "s\n",
      "h\n",
      "a\n",
      "n\n",
      "k\n",
      "8\n"
     ]
    }
   ],
   "source": [
    "name = \"shashank\"\n",
    "namelen = len(name)\n",
    "print(namelen)\n",
    "for i in name:\n",
    "    print(i)"
   ]
  },
  {
   "cell_type": "code",
   "execution_count": 11,
   "metadata": {},
   "outputs": [
    {
     "name": "stdout",
     "output_type": "stream",
     "text": [
      "shashank\n",
      "shashank\n",
      "shashank\n",
      "shashank\n",
      "shashank\n",
      "shashank\n",
      "shashank\n",
      "shashank\n"
     ]
    }
   ],
   "source": [
    "for i in range(namelen):\n",
    "    print(name)"
   ]
  },
  {
   "cell_type": "code",
   "execution_count": 25,
   "metadata": {},
   "outputs": [
    {
     "name": "stdout",
     "output_type": "stream",
     "text": [
      "not pallindrom\n"
     ]
    }
   ],
   "source": [
    "reves = name[::-1]\n",
    "if name == reves:\n",
    "    print(\"pallindrom\")\n",
    "else:\n",
    "    print(\"not pallindrom\")"
   ]
  },
  {
   "cell_type": "code",
   "execution_count": 26,
   "metadata": {},
   "outputs": [
    {
     "name": "stdout",
     "output_type": "stream",
     "text": [
      "['subrahmanya', 'prince', 5]\n"
     ]
    }
   ],
   "source": [
    "student = [\"subrahmanya\", \"prince\", 5, \"manjunath\", \"sp\", 8.6, [\"devops\", \"cloud\"]]\n",
    "cout = int(len(student)/2)\n",
    "\n",
    "print(student[0:cout])"
   ]
  },
  {
   "cell_type": "markdown",
   "metadata": {},
   "source": [
    "### 1 .find all the even numbers in a given list."
   ]
  },
  {
   "cell_type": "code",
   "execution_count": 32,
   "metadata": {},
   "outputs": [
    {
     "name": "stdout",
     "output_type": "stream",
     "text": [
      "1\n",
      "5\n",
      "20\n",
      "25\n",
      "100\n",
      "250\n",
      "110\n"
     ]
    }
   ],
   "source": [
    "num = [1, 5 ,20 ,25, 100, 250, 110]\n",
    "num1 = len(num)\n",
    "for i in range(0,num1):\n",
    "    print(num[i])"
   ]
  },
  {
   "cell_type": "code",
   "execution_count": 33,
   "metadata": {},
   "outputs": [
    {
     "name": "stdout",
     "output_type": "stream",
     "text": [
      "20 is a even\n",
      "100 is a even\n",
      "250 is a even\n",
      "110 is a even\n"
     ]
    }
   ],
   "source": [
    "num = [1, 5 ,20 ,25, 100, 250, 110]\n",
    "num1 = len(num)\n",
    "for i in range(0,num1):\n",
    "    if num[i] % 2 == 0:\n",
    "        print(num[i], \"is a even\")"
   ]
  },
  {
   "cell_type": "markdown",
   "metadata": {},
   "source": [
    "### 2. count how many times a specific element appears in a list"
   ]
  },
  {
   "cell_type": "code",
   "execution_count": 50,
   "metadata": {},
   "outputs": [
    {
     "name": "stdout",
     "output_type": "stream",
     "text": [
      "7\n"
     ]
    }
   ],
   "source": [
    "fruites = [\"apple\", \"banna\", \"grapes\", \"orange\", \"grapes\", \"apple\", \"orange\"]\n",
    "test = []\n",
    "num2 = len(fruites)\n",
    "print(num2)"
   ]
  },
  {
   "cell_type": "code",
   "execution_count": 51,
   "metadata": {},
   "outputs": [
    {
     "name": "stdout",
     "output_type": "stream",
     "text": [
      "[]\n"
     ]
    }
   ],
   "source": [
    "# for i in range(0, num2):\n",
    "#     cont = 0\n",
    "#     for j in range(i+1, num2):\n",
    "#         if fruites[i] == fruites [j]:\n",
    "#             cont = cout + 1\n",
    "#     print(fruites[i],cout)\n",
    "for i in range(0, num2):\n",
    "    for j in test:\n",
    "        if fruites[i] != test[j]:\n",
    "            test[j] = test[j] + [fruites[i], fruites.count]\n",
    "\n",
    "print(test)"
   ]
  },
  {
   "cell_type": "code",
   "execution_count": 60,
   "metadata": {},
   "outputs": [
    {
     "name": "stdout",
     "output_type": "stream",
     "text": [
      "Occurrences of all elements: {'apple': 2, 'banana': 1, 'grapes': 2, 'orange': 2}\n"
     ]
    }
   ],
   "source": [
    "fruites = [\"apple\", \"banana\", \"grapes\", \"orange\", \"grapes\", \"apple\", \"orange\"]\n",
    "\n",
    "result = {}  \n",
    "\n",
    "for i in range(len(fruites)):\n",
    "    if fruites[i] not in result:\n",
    "        count = 1  \n",
    "        for j in range(i+1, len(fruites)):\n",
    "            if fruites[i] == fruites[j]:\n",
    "                count += 1\n",
    "        result[fruites[i]] = count\n",
    "print(\"Occurrences of all elements:\", result)"
   ]
  },
  {
   "cell_type": "markdown",
   "metadata": {},
   "source": [
    "### 3. Calculate the sum of all the positive numbers"
   ]
  },
  {
   "cell_type": "code",
   "execution_count": 64,
   "metadata": {},
   "outputs": [
    {
     "name": "stdout",
     "output_type": "stream",
     "text": [
      "10\n",
      "20\n",
      "0\n",
      "50\n",
      "10\n",
      "10\n",
      "90\n",
      "90\n",
      "90\n",
      "10\n",
      "40\n",
      "90\n",
      "{0: -70, 1: -20, 2: 10, 3: 20, 4: 0, 5: 50, 6: 10, 7: -30, 8: -100, 9: 10, 10: -70, 11: -100, 12: -40, 13: 90, 14: 90, 15: 90, 16: 10, 17: 40, 18: 90, 19: -30}\n",
      "510\n"
     ]
    }
   ],
   "source": [
    "import random\n",
    "random.randrange(-100, 100, 10)\n",
    "sum = 0\n",
    "randomnum = []\n",
    "randomnumpostive = {}\n",
    "for i in range(0, 20):\n",
    "    num = random.randrange(-100, 100, 10)\n",
    "    randomnum.append(num)\n",
    "    if num >= 0:\n",
    "        sum = num + sum\n",
    "        print(num)\n",
    "print(randomnum)\n",
    "print(sum)"
   ]
  },
  {
   "cell_type": "markdown",
   "metadata": {},
   "source": [
    "## Intermediate:\n",
    "\n",
    "### Break entire list to two list into even and odd"
   ]
  },
  {
   "cell_type": "code",
   "execution_count": 72,
   "metadata": {},
   "outputs": [
    {
     "name": "stdout",
     "output_type": "stream",
     "text": [
      "[20, 100, 250, 110]\n",
      "[1, 5, 25]\n"
     ]
    }
   ],
   "source": [
    "num = [1, 5 ,20 ,25, 100, 250, 110]\n",
    "\n",
    "odds = []\n",
    "evens = []\n",
    "\n",
    "for i in range(len(num)):\n",
    "    if num[i] %2 == 0:\n",
    "        odds.append(num[i])\n",
    "    else:\n",
    "        evens.append(num[i])\n",
    "\n",
    "print(odds)\n",
    "print(evens)\n"
   ]
  },
  {
   "cell_type": "markdown",
   "metadata": {},
   "source": [
    "## Advanced:\n",
    "\n",
    "### 1. Find the second largest number in the list\n",
    "### 2. Find anagrams in the list"
   ]
  },
  {
   "cell_type": "markdown",
   "metadata": {},
   "source": [
    ".extend()\n",
    ".append()\n",
    ".insert(index, value)\n",
    ".sort()\n",
    ".sort(reverse=true)\n",
    ".clear()\n",
    ".reverse()\n",
    ".split()\n",
    ".list()"
   ]
  },
  {
   "cell_type": "code",
   "execution_count": 73,
   "metadata": {},
   "outputs": [
    {
     "name": "stdout",
     "output_type": "stream",
     "text": [
      "['apple', 'apple', 'banana', 'grapes', 'grapes', 'orange', 'orange']\n"
     ]
    }
   ],
   "source": [
    "fruites.sort()\n",
    "print(fruites)"
   ]
  },
  {
   "cell_type": "code",
   "execution_count": null,
   "metadata": {},
   "outputs": [],
   "source": [
    "tudent = [\"subrahmanya\", \"prince\", 5, \"manjunath\", \"sp\", 8.6, [\"devops\", \"cloud\"]] #7 --> 3.5 --> 3\n",
    "\n",
    "student.append(\"vijay\")\n",
    "subject = [\"phy\", \"maths\", \"chem\", \"bio\"] #4 --> 2\n",
    "student.extend(subject)\n",
    "student.remove(\"sp\")\n",
    "\n",
    "# student.clear()\n",
    "\n",
    "student.insert(2,\"sp\")\n",
    "\n",
    "# student.sort()\n",
    "print(len(student))\n",
    "print(student)\n",
    "number = [1, 56, 23, 121, -122, 4, 0]\n",
    "# number.sort(reverse=True)\n",
    "number.reverse()\n",
    "print(number)\n",
    "\n",
    "# for i in range(len(student)):\n",
    "#     print(type(student[i]))\n",
    "\n",
    "newlist = list(\"Prashant\")\n",
    "print(newlist)"
   ]
  },
  {
   "cell_type": "markdown",
   "metadata": {},
   "source": [
    "tuple: tuple is an immutable any set of data type and index \n",
    "diffent, add attached removed\n",
    "unchangable, in a secnario where we don't need to update we can use for better perfomace"
   ]
  },
  {
   "cell_type": "code",
   "execution_count": 74,
   "metadata": {},
   "outputs": [
    {
     "ename": "AttributeError",
     "evalue": "'tuple' object has no attribute 'reverse'",
     "output_type": "error",
     "traceback": [
      "\u001b[1;31m---------------------------------------------------------------------------\u001b[0m",
      "\u001b[1;31mAttributeError\u001b[0m                            Traceback (most recent call last)",
      "Cell \u001b[1;32mIn[74], line 2\u001b[0m\n\u001b[0;32m      1\u001b[0m mytuple \u001b[38;5;241m=\u001b[39m (\u001b[38;5;241m12\u001b[39m,\u001b[38;5;241m3\u001b[39m,\u001b[38;5;241m5\u001b[39m,\u001b[38;5;241m6\u001b[39m,\u001b[38;5;241m9\u001b[39m,\u001b[38;5;241m77\u001b[39m,\u001b[38;5;241m445\u001b[39m)\n\u001b[1;32m----> 2\u001b[0m \u001b[43mmytuple\u001b[49m\u001b[38;5;241;43m.\u001b[39;49m\u001b[43mreverse\u001b[49m()\n\u001b[0;32m      3\u001b[0m \u001b[38;5;28mprint\u001b[39m(mytuple)\n",
      "\u001b[1;31mAttributeError\u001b[0m: 'tuple' object has no attribute 'reverse'"
     ]
    }
   ],
   "source": [
    "mytuple = (12,3,5,6,9,77,445)\n",
    "mytuple.reverse()\n",
    "print(mytuple)"
   ]
  },
  {
   "cell_type": "markdown",
   "metadata": {},
   "source": [
    "Set: is an unordered and unique element, non indexing"
   ]
  },
  {
   "cell_type": "code",
   "execution_count": 79,
   "metadata": {},
   "outputs": [
    {
     "name": "stdout",
     "output_type": "stream",
     "text": [
      "{1, 2, 4, 5, 20, 10}\n",
      "6\n"
     ]
    }
   ],
   "source": [
    "myset= {5, 10, 20 ,5 , 1, 2, 4, 5}\n",
    "print(myset)\n",
    "print(len(myset))"
   ]
  },
  {
   "cell_type": "code",
   "execution_count": 80,
   "metadata": {},
   "outputs": [
    {
     "name": "stdout",
     "output_type": "stream",
     "text": [
      "{1, 2, 4, 5, 20, 55, 10}\n"
     ]
    }
   ],
   "source": [
    "myset.add(55)\n",
    "print(myset)"
   ]
  },
  {
   "cell_type": "code",
   "execution_count": 81,
   "metadata": {},
   "outputs": [
    {
     "name": "stdout",
     "output_type": "stream",
     "text": [
      "{1, 2, 4, 5, 20, 10}\n"
     ]
    }
   ],
   "source": [
    "myset.remove(55)\n",
    "print(myset)"
   ]
  },
  {
   "cell_type": "markdown",
   "metadata": {},
   "source": [
    "# dictionary --> under order with key value pair "
   ]
  },
  {
   "cell_type": "code",
   "execution_count": 89,
   "metadata": {},
   "outputs": [
    {
     "name": "stdout",
     "output_type": "stream",
     "text": [
      "{'name': 'shashank', 'age': 28, 'bmi': 23.1}\n"
     ]
    }
   ],
   "source": [
    "mydata = { \n",
    "    \"name\" : \"shashank\", \n",
    "    \"age\" : 28, \n",
    "    \"bmi\": 23.1,\n",
    "    }\n",
    "print(mydata)"
   ]
  },
  {
   "cell_type": "code",
   "execution_count": 86,
   "metadata": {},
   "outputs": [
    {
     "name": "stdout",
     "output_type": "stream",
     "text": [
      "28\n"
     ]
    }
   ],
   "source": [
    "print(mydata[\"age\"])"
   ]
  },
  {
   "cell_type": "code",
   "execution_count": 87,
   "metadata": {},
   "outputs": [
    {
     "name": "stdout",
     "output_type": "stream",
     "text": [
      "{'name': 'shashank', 'age': 18, 'bmi': 23.1}\n"
     ]
    }
   ],
   "source": [
    "mydata[\"age\"]=18\n",
    "print(mydata)"
   ]
  },
  {
   "cell_type": "code",
   "execution_count": 88,
   "metadata": {},
   "outputs": [
    {
     "name": "stdout",
     "output_type": "stream",
     "text": [
      "{'name': 'shashank', 'age': 18}\n"
     ]
    }
   ],
   "source": [
    "del mydata[\"bmi\"]\n",
    "print(mydata)"
   ]
  },
  {
   "cell_type": "code",
   "execution_count": 93,
   "metadata": {},
   "outputs": [
    {
     "name": "stdout",
     "output_type": "stream",
     "text": [
      "name : shashank\n",
      "age : 28\n",
      "bmi : 23.1\n"
     ]
    }
   ],
   "source": [
    "for i,j in mydata.items():\n",
    "    print(i,\":\",j)"
   ]
  },
  {
   "cell_type": "code",
   "execution_count": 95,
   "metadata": {},
   "outputs": [
    {
     "name": "stdout",
     "output_type": "stream",
     "text": [
      "shashank\n",
      "28\n",
      "23.1\n"
     ]
    }
   ],
   "source": [
    "for i in mydata.values():\n",
    "    print(i)"
   ]
  },
  {
   "cell_type": "code",
   "execution_count": 96,
   "metadata": {},
   "outputs": [
    {
     "name": "stdout",
     "output_type": "stream",
     "text": [
      "name shashank\n",
      "age 28\n",
      "bmi 23.1\n"
     ]
    }
   ],
   "source": [
    "for i in mydata:\n",
    "    print(i, mydata[i])"
   ]
  },
  {
   "cell_type": "code",
   "execution_count": null,
   "metadata": {},
   "outputs": [],
   "source": [
    "# filter"
   ]
  }
 ],
 "metadata": {
  "kernelspec": {
   "display_name": "Python 3",
   "language": "python",
   "name": "python3"
  },
  "language_info": {
   "codemirror_mode": {
    "name": "ipython",
    "version": 3
   },
   "file_extension": ".py",
   "mimetype": "text/x-python",
   "name": "python",
   "nbconvert_exporter": "python",
   "pygments_lexer": "ipython3",
   "version": "3.12.7"
  }
 },
 "nbformat": 4,
 "nbformat_minor": 2
}
